{
 "cells": [
  {
   "cell_type": "markdown",
   "metadata": {},
   "source": [
    "To complete the homework simply fill in your answers in this jupyter notebook!\n",
    "\n",
    "Remember that there are many ways in which markup cells can be used and you can add useful things such as references and images to better explain your answers.\n",
    "\n",
    "It is perfectly fine if you copy your answer from somewhere else in the internet as long as you understand the code you copied and cite the source. However, refrain from asking help for your colleagues (unless you're really struggling) as the ability to find information online is crucial for any tech role you might want to have in the future.\n",
    "\n",
    "<h1> Question 1: Multiple prints</h1>\n",
    "Create 3 different variables of different types and print their values using a single print statement."
   ]
  },
  {
   "cell_type": "code",
   "execution_count": 2,
   "metadata": {},
   "outputs": [
    {
     "name": "stdout",
     "output_type": "stream",
     "text": [
      "Hello sexy 7731105381 True\n",
      "Hello sexy7731105381True\n"
     ]
    }
   ],
   "source": [
    "variable_1 = \"Hello sexy\" #a string that makes me smile in the morning. \n",
    "Variable_2 = 773110_5381 #try reading this integer. Also the '_' here does not affect the integer at all, it just makes it more readable.\n",
    "variable_3 = True #a right boolean.\n",
    "\n",
    "print(variable_1, Variable_2, variable_3) \n",
    "#or\n",
    "print(variable_1 + str(Variable_2) + str(variable_3))\n",
    "#I personally like the first option better. Notice the spaces difference tho. "
   ]
  },
  {
   "cell_type": "markdown",
   "metadata": {},
   "source": [
    "<h1> Question 2: Data structures</h1>\n",
    "Create two variables containing each a nested list and a nested dictionary and demonstrate how to access specific items of it."
   ]
  },
  {
   "cell_type": "code",
   "execution_count": 11,
   "metadata": {},
   "outputs": [
    {
     "data": {
      "text/plain": [
       "'G Wagon'"
      ]
     },
     "execution_count": 11,
     "metadata": {},
     "output_type": "execute_result"
    }
   ],
   "source": [
    "my_list = ['Mercedes-Benz', 'BMW', 'Porsche']\n",
    "a_dic = {'Brand': 'Mercedes-Benz',\n",
    "         'Model': 'G Wagon',\n",
    "         'Year': '1990'}\n",
    "\n",
    "my_list[2]\n",
    "my_list[-1] #these two las lines will print the same, the last element of this list. \n",
    "\n",
    "a_dic['Model']"
   ]
  },
  {
   "cell_type": "markdown",
   "metadata": {},
   "source": [
    "Now consider the following list,"
   ]
  },
  {
   "cell_type": "code",
   "execution_count": 12,
   "metadata": {},
   "outputs": [],
   "source": [
    "a_list = [1,2,3,4,5,6,7,8,9]"
   ]
  },
  {
   "cell_type": "markdown",
   "metadata": {},
   "source": [
    "1 - slice this list (by index) to contain only the numbers smaller than 5; <br>\n",
    "2 - make a loop to create a new list containing only the EVEN numbers of this list (bonus point if you use a list comprehension!!);<br>\n",
    "3 - make a loop to create a new list containing only the numbers that are multiples of 3;<br>\n",
    "Bonus - make a loop that will print every item on the list inside a sentence using a f-string."
   ]
  },
  {
   "cell_type": "code",
   "execution_count": 24,
   "metadata": {},
   "outputs": [
    {
     "name": "stdout",
     "output_type": "stream",
     "text": [
      "[2, 4, 6, 8]\n",
      "[2, 4, 6, 8, 2, 4, 6, 8]\n",
      "The number 3 is a multiple of 3\n",
      "The number 6 is a multiple of 3\n",
      "The number 9 is a multiple of 3\n"
     ]
    }
   ],
   "source": [
    "#1.\n",
    "new_list = a_list[:4] # takes a slice from the beginning of a_list up to (but not including) the element at index 4\n",
    "#print(new_list)\n",
    "\n",
    "#2.\n",
    "even_list = [num for num in a_list if num % 2 == 0] # this is a list comprenhension, but the code below also gives me the same results. Unsure of the pros and cons of the difference. This first one looks shorter tho. \n",
    "print(even_list)\n",
    "#or\n",
    "for num in a_list:\n",
    "    if num % 2 == 0: #if a number is even i.e.,if a number's residual is equal to 0 \n",
    "        even_list.append(num) #this will append the new even elements to the empty list I created above, \n",
    "print(even_list)\n",
    "\n",
    "\n",
    "#3.\n",
    "multi_3 = [num for num in a_list if num % 3 == 0]\n",
    "for num in multi_3:\n",
    "    print(f\"The number {num} is a multiple of 3\")\n",
    "\n",
    "    \n",
    "\n"
   ]
  },
  {
   "cell_type": "markdown",
   "metadata": {},
   "source": [
    "<h1>Question 3: Creating functions</h1>\n",
    "\n",
    "Create a function that takes a list of numbers and convert them into strings. (bonus point if you use a list comprehension!!)"
   ]
  },
  {
   "cell_type": "code",
   "execution_count": 48,
   "metadata": {},
   "outputs": [
    {
     "name": "stdout",
     "output_type": "stream",
     "text": [
      "The numbers converted into str: 1, 2, 3, 4, 5, 6, 7, 8, 9\n",
      "The numbers converted into str: 1, 2, 3, 4, 5, 6, 7, 8, 9\n"
     ]
    }
   ],
   "source": [
    "def f_list(a_list):\n",
    "    result = ', '.join(map(str, a_list)) \n",
    "    print(\"The numbers converted into str:\",result)\n",
    "f_list([1,2,3,4,5,6,7,8,9])\n",
    "\n",
    "    #OR using a list comprenhension:\n",
    "\n",
    "def f_list(a_list):\n",
    "    result = ', '.join([str(num) for num in a_list]) #could use num or item here, both give me the same result, any difference?\n",
    "    print(\"The numbers converted into str:\",result)\n",
    "\n",
    "f_list([1,2,3,4,5,6,7,8,9])"
   ]
  },
  {
   "cell_type": "markdown",
   "metadata": {},
   "source": [
    "From here onwards, not sure what I was supposed to do..."
   ]
  },
  {
   "cell_type": "code",
   "execution_count": 9,
   "metadata": {},
   "outputs": [
    {
     "data": {
      "text/plain": [
       "'1'"
      ]
     },
     "execution_count": 9,
     "metadata": {},
     "output_type": "execute_result"
    }
   ],
   "source": [
    "variable = 1\n",
    "str(variable)"
   ]
  },
  {
   "cell_type": "code",
   "execution_count": 11,
   "metadata": {},
   "outputs": [],
   "source": [
    "yet_another_list = []"
   ]
  },
  {
   "cell_type": "code",
   "execution_count": 12,
   "metadata": {},
   "outputs": [
    {
     "data": {
      "text/plain": [
       "[]"
      ]
     },
     "execution_count": 12,
     "metadata": {},
     "output_type": "execute_result"
    }
   ],
   "source": [
    "yet_another_list"
   ]
  },
  {
   "cell_type": "code",
   "execution_count": 13,
   "metadata": {},
   "outputs": [],
   "source": [
    "yet_another_list.append('cat')"
   ]
  },
  {
   "cell_type": "code",
   "execution_count": 14,
   "metadata": {},
   "outputs": [
    {
     "data": {
      "text/plain": [
       "['cat']"
      ]
     },
     "execution_count": 14,
     "metadata": {},
     "output_type": "execute_result"
    }
   ],
   "source": [
    "yet_another_list"
   ]
  },
  {
   "cell_type": "code",
   "execution_count": null,
   "metadata": {},
   "outputs": [],
   "source": []
  },
  {
   "cell_type": "code",
   "execution_count": 15,
   "metadata": {},
   "outputs": [],
   "source": [
    "def numberToString(the_list):\n",
    "    another_list = []\n",
    "    \n",
    "    for item in the_list:    \n",
    "        converted_item = str(item)\n",
    "        another_list.append(converted_item)\n",
    "        \n",
    "    return(another_list)"
   ]
  },
  {
   "cell_type": "code",
   "execution_count": null,
   "metadata": {},
   "outputs": [],
   "source": []
  },
  {
   "cell_type": "code",
   "execution_count": 16,
   "metadata": {},
   "outputs": [
    {
     "data": {
      "text/plain": [
       "['1', '2', '3', '4', '5']"
      ]
     },
     "execution_count": 16,
     "metadata": {},
     "output_type": "execute_result"
    }
   ],
   "source": [
    "my_list = [1,2,3,4,5]\n",
    "\n",
    "numberToString(the_list=my_list)"
   ]
  },
  {
   "cell_type": "code",
   "execution_count": 20,
   "metadata": {},
   "outputs": [
    {
     "data": {
      "text/plain": [
       "['1', '2', '3', '4', '5']"
      ]
     },
     "execution_count": 20,
     "metadata": {},
     "output_type": "execute_result"
    }
   ],
   "source": [
    "new_list = [str(number) for number in my_list]\n",
    "new_list"
   ]
  },
  {
   "cell_type": "code",
   "execution_count": 19,
   "metadata": {},
   "outputs": [
    {
     "data": {
      "text/plain": [
       "['0', '1', '2', '3', '4', '5', '6', '7', '8', '9']"
      ]
     },
     "execution_count": 19,
     "metadata": {},
     "output_type": "execute_result"
    }
   ],
   "source": [
    "new_list = [str(number) for number in range(10)]\n",
    "new_list"
   ]
  },
  {
   "cell_type": "markdown",
   "metadata": {},
   "source": [
    "...Until here. I guess it was just examples of functions with lists (?)"
   ]
  },
  {
   "cell_type": "markdown",
   "metadata": {},
   "source": [
    "Create a small calculator. The function should pick two numbers and perform one of four mathematical operations with it (sum/subtraction, division, multiplication, exponents). The desired operation should be an option (hint: what IF the user wants to do a sum?)\n",
    "\n",
    "Bonus: Make a function that can pick ANY number of numbers."
   ]
  },
  {
   "cell_type": "code",
   "execution_count": 59,
   "metadata": {},
   "outputs": [
    {
     "ename": "ValueError",
     "evalue": "could not convert string to float: 'f'",
     "output_type": "error",
     "traceback": [
      "\u001b[1;31m---------------------------------------------------------------------------\u001b[0m",
      "\u001b[1;31mValueError\u001b[0m                                Traceback (most recent call last)",
      "\u001b[1;32mc:\\Users\\CODELearner1\\iCloudDrive\\CODE\\Python\\Homework 1.ipynb Cell 25\u001b[0m line \u001b[0;36m4\n\u001b[0;32m     <a href='vscode-notebook-cell:/c%3A/Users/CODELearner1/iCloudDrive/CODE/Python/Homework%201.ipynb#X30sZmlsZQ%3D%3D?line=36'>37</a>\u001b[0m     result \u001b[39m=\u001b[39m number_1\n\u001b[0;32m     <a href='vscode-notebook-cell:/c%3A/Users/CODELearner1/iCloudDrive/CODE/Python/Homework%201.ipynb#X30sZmlsZQ%3D%3D?line=38'>39</a>\u001b[0m \u001b[39mwhile\u001b[39;00m \u001b[39mTrue\u001b[39;00m:\n\u001b[1;32m---> <a href='vscode-notebook-cell:/c%3A/Users/CODELearner1/iCloudDrive/CODE/Python/Homework%201.ipynb#X30sZmlsZQ%3D%3D?line=39'>40</a>\u001b[0m     number_2 \u001b[39m=\u001b[39m \u001b[39mfloat\u001b[39;49m(\u001b[39minput\u001b[39;49m(\u001b[39m\"\u001b[39;49m\u001b[39mEnter another number or (f) to finish: \u001b[39;49m\u001b[39m\"\u001b[39;49m))\n\u001b[0;32m     <a href='vscode-notebook-cell:/c%3A/Users/CODELearner1/iCloudDrive/CODE/Python/Homework%201.ipynb#X30sZmlsZQ%3D%3D?line=41'>42</a>\u001b[0m     \u001b[39mif\u001b[39;00m number_2 \u001b[39m==\u001b[39m \u001b[39m'\u001b[39m\u001b[39mf\u001b[39m\u001b[39m'\u001b[39m:\n\u001b[0;32m     <a href='vscode-notebook-cell:/c%3A/Users/CODELearner1/iCloudDrive/CODE/Python/Homework%201.ipynb#X30sZmlsZQ%3D%3D?line=42'>43</a>\u001b[0m         \u001b[39mbreak\u001b[39;00m \n",
      "\u001b[1;31mValueError\u001b[0m: could not convert string to float: 'f'"
     ]
    }
   ],
   "source": [
    "'''\n",
    "number_1 = float(input(\"Enter number: \")) \n",
    "operation = input(\"Select operation by Entering the correspondent symbol: Sum (+), Substraction (-), Divition (/), Multiplication (*) or Exponents (^)\")\n",
    "number_2 = float(input(\"Enter another number: \"))\n",
    "\n",
    "if operation == '+':\n",
    "    result = number_1 + number_2\n",
    "    print(result)\n",
    "\n",
    "elif operation == '-':\n",
    "    result = number_1 - number_2\n",
    "    print(result)\n",
    "\n",
    "elif operation == '/':\n",
    "    result = number_1 / number_2\n",
    "    print(result)\n",
    "\n",
    "elif operation == '*':\n",
    "    result = number_1 * number_2\n",
    "    print(result)\n",
    "\n",
    "else: #not sure if here I should finish with elif or else (?)\n",
    "    operation == '^'\n",
    "    result = number_1 ** number_2\n",
    "    print(result)\n",
    "\n",
    "#the above works but only for two inputs. Let's make it infinite !!!\n",
    "'''\n",
    "\n",
    "while True: #this creates an infinite loop until break.\n",
    "    number_1 = float(input(\"Enter number: \")) \n",
    "    operation = input(\"Select operation by Entering the correspondent symbol: Sum (+), Substraction (-), Divition (/), Multiplication (*) or Exponents (^). Or (f) to finish entering\")\n",
    "\n",
    "    if operation == 'f':\n",
    "        break #this statement is used to exit the loop above when the user enters 'f'. How can I make at this point not ask for number_2\n",
    "\n",
    "    result = number_1\n",
    "\n",
    "while True:\n",
    "    number_2 = float(input(\"Enter another number or (f) to finish: \")) #I need to edit this line so it receives both, float or a str\n",
    "\n",
    "    if number_2 == 'f':\n",
    "        #break \n",
    "\n",
    "\n",
    "    #number_2 = float(number_2)\n",
    "\n",
    "    if operation == '+':\n",
    "        result = number_1 + number_2\n",
    "        print(result)\n",
    "\n",
    "    elif operation == '-':\n",
    "        result = number_1 - number_2\n",
    "        print(result)\n",
    "\n",
    "    elif operation == '/':\n",
    "        result = number_1 / number_2\n",
    "        print(result)\n",
    "\n",
    "    elif operation == '*':\n",
    "        result = number_1 * number_2\n",
    "        print(result)\n",
    "\n",
    "    elif operation == '^':\n",
    "        result = number_1 ** number_2\n",
    "        print(result)\n",
    "\n",
    "#also not sure how to make the above not ask me for the number_2 input once I have enter 'f' an djust gives me the result. "
   ]
  },
  {
   "cell_type": "markdown",
   "metadata": {},
   "source": [
    "Create a function that check if a number is within a list of numbers."
   ]
  },
  {
   "cell_type": "code",
   "execution_count": 61,
   "metadata": {},
   "outputs": [
    {
     "name": "stdout",
     "output_type": "stream",
     "text": [
      "Number 6 is in the list.\n"
     ]
    }
   ],
   "source": [
    "def check_nlist(nlist):\n",
    "    if 6 in nlist:\n",
    "        return True\n",
    "    else:\n",
    "        return False\n",
    "    \n",
    "nlist = [1,2,3,4,5,6,8,9]\n",
    "result = check_nlist(nlist) #here the function check_nlist is being called as an aurgument.\n",
    "\n",
    "if result:\n",
    "    print(\"Number 6 is in the list.\")\n",
    "else: \n",
    "    print(\"Number 6 is notin the list.\")\n",
    "\n",
    "\n",
    "\n",
    "\n"
   ]
  },
  {
   "cell_type": "markdown",
   "metadata": {},
   "source": [
    "Bonus: similar to the item above, create a function that checks if a string contains a given substring, e.g. 'I have a cat' contains the string sequence 'cat' or 'ave'."
   ]
  },
  {
   "cell_type": "code",
   "execution_count": 62,
   "metadata": {},
   "outputs": [
    {
     "name": "stdout",
     "output_type": "stream",
     "text": [
      "3\n"
     ]
    }
   ],
   "source": [
    "another = 'I have a cat'\n",
    "print(another.find('ave')) # this will print the position of 'ave' in that string, if it does print the posiiton it would mean the substr is there. Bu I am sure I could do address this question in a different way. "
   ]
  },
  {
   "cell_type": "markdown",
   "metadata": {},
   "source": [
    "Bonus: create a function that given the initial speed of a projectile that is thrown at 90 degrees will calculate how much time the projectile will take to get back to the initial altitude. (yes you're expected to disregard air resistence)"
   ]
  },
  {
   "cell_type": "code",
   "execution_count": null,
   "metadata": {},
   "outputs": [],
   "source": [
    "#this sexy bonus shall be done a bit later today."
   ]
  },
  {
   "cell_type": "markdown",
   "metadata": {},
   "source": [
    "<h1>solve these questions...or ELSE</h1>\n",
    "\n",
    "Why the nested if statement below doesn't only produce the first print? Can you modify it so it produces the desired output?"
   ]
  },
  {
   "cell_type": "code",
   "execution_count": 66,
   "metadata": {},
   "outputs": [
    {
     "name": "stdout",
     "output_type": "stream",
     "text": [
      "aha!\n"
     ]
    }
   ],
   "source": [
    "food = 'Pizza'\n",
    "drinks = 'Beer'\n",
    "\n",
    "if food == 'Pizza' and drinks == 'Beer':\n",
    "    print('aha!')\n",
    "elif food == 'Pizza' and drinks != 'Beer': #this was if before\n",
    "    print('Yey.')\n",
    "elif food != 'Pizza' and drinks == 'Beer': #this was if before\n",
    "    print('Yey!')\n",
    "else:\n",
    "    print('.....???')\n",
    "\n",
    "#I just had to change the other ifs for elif to exclude the else statement from the output. "
   ]
  },
  {
   "cell_type": "markdown",
   "metadata": {},
   "source": [
    "<h1> Debugging </h1>\n",
    "None of the blocks of code below work. Your task is to make them work (if possible!) and add markup cells (or comments) explaining why they don't work."
   ]
  },
  {
   "cell_type": "markdown",
   "metadata": {},
   "source": [
    "print(\"Is this working?\")"
   ]
  },
  {
   "cell_type": "code",
   "execution_count": 1,
   "metadata": {},
   "outputs": [],
   "source": [
    "#print(\"does this work?\")"
   ]
  },
  {
   "cell_type": "code",
   "execution_count": 70,
   "metadata": {},
   "outputs": [
    {
     "name": "stdout",
     "output_type": "stream",
     "text": [
      "about now?\n"
     ]
    }
   ],
   "source": [
    "print(\"about now?') \n",
    "      #this doesn't work becasue you are using to different ' and \". to fic it either use '' or \"\". See below line\n"
   ]
  },
  {
   "cell_type": "code",
   "execution_count": 71,
   "metadata": {},
   "outputs": [
    {
     "name": "stdout",
     "output_type": "stream",
     "text": [
      "about now?\n",
      "about now?\n"
     ]
    }
   ],
   "source": [
    "print(\"about now?\") \n",
    "#or\n",
    "print('about now?')"
   ]
  },
  {
   "cell_type": "code",
   "execution_count": 73,
   "metadata": {},
   "outputs": [
    {
     "ename": "SyntaxError",
     "evalue": "invalid syntax. Perhaps you forgot a comma? (1096638549.py, line 3)",
     "output_type": "error",
     "traceback": [
      "\u001b[1;36m  Cell \u001b[1;32mIn[73], line 3\u001b[1;36m\u001b[0m\n\u001b[1;33m    print(text_variable my_mood)\u001b[0m\n\u001b[1;37m          ^\u001b[0m\n\u001b[1;31mSyntaxError\u001b[0m\u001b[1;31m:\u001b[0m invalid syntax. Perhaps you forgot a comma?\n"
     ]
    }
   ],
   "source": [
    "text_variable = \"Today on a scale from 1 to 10 I am feeling...\"\n",
    "my_mood = 10\n",
    "print(text_variable my_mood)\n",
    "#see corrected code below: by adding a ',' between the two variables I make sure I print both, I also deleted the '...' so the output looks like a sentence."
   ]
  },
  {
   "cell_type": "code",
   "execution_count": 75,
   "metadata": {},
   "outputs": [
    {
     "name": "stdout",
     "output_type": "stream",
     "text": [
      "Today on a scale from 1 to 10 I am feeling 10\n"
     ]
    }
   ],
   "source": [
    "text_variable = \"Today on a scale from 1 to 10 I am feeling\"\n",
    "my_mood = 10\n",
    "print(text_variable, my_mood)"
   ]
  },
  {
   "cell_type": "code",
   "execution_count": 76,
   "metadata": {},
   "outputs": [
    {
     "ename": "TypeError",
     "evalue": "can only concatenate str (not \"int\") to str",
     "output_type": "error",
     "traceback": [
      "\u001b[1;31m---------------------------------------------------------------------------\u001b[0m",
      "\u001b[1;31mTypeError\u001b[0m                                 Traceback (most recent call last)",
      "\u001b[1;32mc:\\Users\\CODELearner1\\iCloudDrive\\CODE\\Python\\Homework 1.ipynb Cell 41\u001b[0m line \u001b[0;36m3\n\u001b[0;32m      <a href='vscode-notebook-cell:/c%3A/Users/CODELearner1/iCloudDrive/CODE/Python/Homework%201.ipynb#X50sZmlsZQ%3D%3D?line=0'>1</a>\u001b[0m text_variable \u001b[39m=\u001b[39m \u001b[39m\"\u001b[39m\u001b[39mToday on a scale from 1 to 10 I am feeling...\u001b[39m\u001b[39m\"\u001b[39m\n\u001b[0;32m      <a href='vscode-notebook-cell:/c%3A/Users/CODELearner1/iCloudDrive/CODE/Python/Homework%201.ipynb#X50sZmlsZQ%3D%3D?line=1'>2</a>\u001b[0m my_mood \u001b[39m=\u001b[39m \u001b[39m10\u001b[39m\n\u001b[1;32m----> <a href='vscode-notebook-cell:/c%3A/Users/CODELearner1/iCloudDrive/CODE/Python/Homework%201.ipynb#X50sZmlsZQ%3D%3D?line=2'>3</a>\u001b[0m \u001b[39mprint\u001b[39m(text_variable\u001b[39m+\u001b[39;49mmy_mood) \u001b[39m#Yep there are ways to make it work with a + operator too!\u001b[39;00m\n",
      "\u001b[1;31mTypeError\u001b[0m: can only concatenate str (not \"int\") to str"
     ]
    }
   ],
   "source": [
    "text_variable = \"Today on a scale from 1 to 10 I am feeling...\"\n",
    "my_mood = 10\n",
    "print(text_variable+my_mood) #Yep there are ways to make it work with a + operator too! #yep, I just needed to convert the my_mood to a str, see below. "
   ]
  },
  {
   "cell_type": "code",
   "execution_count": 79,
   "metadata": {},
   "outputs": [
    {
     "name": "stdout",
     "output_type": "stream",
     "text": [
      "Today on a scale from 1 to 10 I am feeling10\n"
     ]
    }
   ],
   "source": [
    "text_variable = \"Today on a scale from 1 to 10 I am feeling\"\n",
    "my_mood = 10\n",
    "print(text_variable + str(my_mood))"
   ]
  },
  {
   "cell_type": "code",
   "execution_count": 7,
   "metadata": {},
   "outputs": [
    {
     "ename": "NameError",
     "evalue": "name 'item1' is not defined",
     "output_type": "error",
     "traceback": [
      "\u001b[1;31m---------------------------------------------------------------------------\u001b[0m",
      "\u001b[1;31mNameError\u001b[0m                                 Traceback (most recent call last)",
      "\u001b[1;32m<ipython-input-7-74575f58e260>\u001b[0m in \u001b[0;36m<module>\u001b[1;34m\u001b[0m\n\u001b[1;32m----> 1\u001b[1;33m a_dictionary = {item1: 'Value 1',\n\u001b[0m\u001b[0;32m      2\u001b[0m                 item2: 'value 2',}\n",
      "\u001b[1;31mNameError\u001b[0m: name 'item1' is not defined"
     ]
    }
   ],
   "source": [
    "a_dictionary = {item1: 'Value 1',\n",
    "                item2: 'value 2',} #this needs to define the items by addig ''. see code block below"
   ]
  },
  {
   "cell_type": "code",
   "execution_count": 80,
   "metadata": {},
   "outputs": [],
   "source": [
    "a_dictionary = {'item1': 'Value 1',\n",
    "                'item2': 'value 2',}"
   ]
  },
  {
   "cell_type": "code",
   "execution_count": 10,
   "metadata": {},
   "outputs": [
    {
     "ename": "SyntaxError",
     "evalue": "cannot assign to literal (<ipython-input-10-66d345ec7c62>, line 1)",
     "output_type": "error",
     "traceback": [
      "\u001b[1;36m  File \u001b[1;32m\"<ipython-input-10-66d345ec7c62>\"\u001b[1;36m, line \u001b[1;32m1\u001b[0m\n\u001b[1;33m    1 = 1 # Should return True\u001b[0m\n\u001b[1;37m    ^\u001b[0m\n\u001b[1;31mSyntaxError\u001b[0m\u001b[1;31m:\u001b[0m cannot assign to literal\n"
     ]
    }
   ],
   "source": [
    "1 = 1 # Should return True"
   ]
  },
  {
   "cell_type": "code",
   "execution_count": 83,
   "metadata": {},
   "outputs": [
    {
     "name": "stdout",
     "output_type": "stream",
     "text": [
      "...do I look like I have this one figured out?\n"
     ]
    }
   ],
   "source": [
    "# Why isn't the outcome 'Clap your hands?' #Because Python is case sensitive and the mood variable was with lower case h. So by changing the second Happy to lower case it would be solved \n",
    "mood = 'happy'\n",
    "if mood == 'Happy':\n",
    "    print('Clap your hands')\n",
    "else:\n",
    "    print('...do I look like I have this one figured out?')"
   ]
  },
  {
   "cell_type": "code",
   "execution_count": 85,
   "metadata": {},
   "outputs": [
    {
     "ename": "IndentationError",
     "evalue": "expected an indented block after function definition on line 1 (3359841093.py, line 2)",
     "output_type": "error",
     "traceback": [
      "\u001b[1;36m  Cell \u001b[1;32mIn[85], line 2\u001b[1;36m\u001b[0m\n\u001b[1;33m    print(x,y) #this line just needs an indentation to work\u001b[0m\n\u001b[1;37m    ^\u001b[0m\n\u001b[1;31mIndentationError\u001b[0m\u001b[1;31m:\u001b[0m expected an indented block after function definition on line 1\n"
     ]
    }
   ],
   "source": [
    "def printerfunction(x,y):\n",
    "print(x,y) #this line just needs an indentation to work\n",
    "\n",
    "printerfunction(\"a word\", \"another word\")"
   ]
  }
 ],
 "metadata": {
  "kernelspec": {
   "display_name": "Python 3 (ipykernel)",
   "language": "python",
   "name": "python3"
  },
  "language_info": {
   "codemirror_mode": {
    "name": "ipython",
    "version": 3
   },
   "file_extension": ".py",
   "mimetype": "text/x-python",
   "name": "python",
   "nbconvert_exporter": "python",
   "pygments_lexer": "ipython3",
   "version": "3.11.5"
  }
 },
 "nbformat": 4,
 "nbformat_minor": 4
}
